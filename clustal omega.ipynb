{
 "cells": [
  {
   "cell_type": "markdown",
   "id": "90211fe2",
   "metadata": {},
   "source": [
    "# Clustal omega"
   ]
  },
  {
   "cell_type": "code",
   "execution_count": 56,
   "id": "69db4d8c",
   "metadata": {},
   "outputs": [],
   "source": [
    "import Bio as Bio"
   ]
  },
  {
   "cell_type": "code",
   "execution_count": 57,
   "id": "4531d23d",
   "metadata": {},
   "outputs": [],
   "source": [
    "from Bio import SeqIO\n",
    "from Bio import AlignIO"
   ]
  },
  {
   "cell_type": "code",
   "execution_count": 58,
   "id": "4e82c12b",
   "metadata": {},
   "outputs": [],
   "source": [
    "A1=\"Elephas maximus\"\n",
    "A2=\"Panthera tigris\"\n",
    "A3=\" Rattus rattus\"\n",
    "A4=\"Macaca mulatta\""
   ]
  },
  {
   "cell_type": "code",
   "execution_count": 62,
   "id": "c8eaea5d",
   "metadata": {},
   "outputs": [],
   "source": [
    "path=\"D:\\sequence1.fasta\""
   ]
  },
  {
   "cell_type": "code",
   "execution_count": 63,
   "id": "af99d02e",
   "metadata": {},
   "outputs": [],
   "source": [
    "A1=SeqIO.read(\"D:\\sequence1.fasta\",\"fasta\")\n",
    "A2=SeqIO.read(\"D:\\sequence2.fasta\",\"fasta\")\n",
    "A3=SeqIO.read(\"D:\\sequence3.fasta\",\"fasta\")\n",
    "A4=SeqIO.read(\"D:\\sequence4.fasta\",\"fasta\")"
   ]
  },
  {
   "cell_type": "code",
   "execution_count": 64,
   "id": "59dad45a",
   "metadata": {},
   "outputs": [
    {
     "name": "stdout",
     "output_type": "stream",
     "text": [
      "AB208182.1 Elephas maximus DNA, AfroSINE locus Ma158\n"
     ]
    }
   ],
   "source": [
    "print(A1.description)"
   ]
  },
  {
   "cell_type": "code",
   "execution_count": 65,
   "id": "897780ff",
   "metadata": {},
   "outputs": [],
   "source": [
    "Animals=SeqIO.write([A1,A2,A3,A4],\"sequences.fasta\",\"fasta\")"
   ]
  },
  {
   "cell_type": "markdown",
   "id": "c72df169",
   "metadata": {},
   "source": [
    "# Alignment\n"
   ]
  },
  {
   "cell_type": "code",
   "execution_count": 66,
   "id": "ce0560f1",
   "metadata": {},
   "outputs": [],
   "source": [
    "path2=\"D:\\Animals.aln.txt\""
   ]
  },
  {
   "cell_type": "code",
   "execution_count": 67,
   "id": "492e5e00",
   "metadata": {},
   "outputs": [],
   "source": [
    "format=\"clustal\""
   ]
  },
  {
   "cell_type": "code",
   "execution_count": 68,
   "id": "9ff4bbc7",
   "metadata": {},
   "outputs": [],
   "source": [
    "alignment=AlignIO.read(\"D:\\Animals.aln.txt\",\"clustal\")"
   ]
  },
  {
   "cell_type": "code",
   "execution_count": 69,
   "id": "e2657d27",
   "metadata": {},
   "outputs": [
    {
     "name": "stdout",
     "output_type": "stream",
     "text": [
      "<class 'Bio.Align.MultipleSeqAlignment'>\n"
     ]
    }
   ],
   "source": [
    "print(type(alignment))"
   ]
  },
  {
   "cell_type": "code",
   "execution_count": 70,
   "id": "e87592ec",
   "metadata": {},
   "outputs": [
    {
     "name": "stdout",
     "output_type": "stream",
     "text": [
      "Alignment with 4 rows and 1311 columns\n",
      "ATGCGGGTCATGGCGCCCCGAATCCTCCTCCTGCTGCTCTCGGG...--- NM_001318348.1\n",
      "--------------------------------------------...--- AB208182.1\n",
      "--------------------------------------------...--- FJ358423.1\n",
      "--------------------------------------------...CTT JQ823644.1\n"
     ]
    }
   ],
   "source": [
    "print(alignment)"
   ]
  },
  {
   "cell_type": "markdown",
   "id": "c1b96e5e",
   "metadata": {},
   "source": [
    "# Phylogenetic tree"
   ]
  },
  {
   "cell_type": "code",
   "execution_count": 71,
   "id": "07d65fbb",
   "metadata": {},
   "outputs": [],
   "source": [
    "from Bio import Phylo"
   ]
  },
  {
   "cell_type": "code",
   "execution_count": 72,
   "id": "f937a8b2",
   "metadata": {},
   "outputs": [],
   "source": [
    "from Bio.Phylo.TreeConstruction import DistanceCalculator\n",
    "calculator=DistanceCalculator('identity')"
   ]
  },
  {
   "cell_type": "code",
   "execution_count": 73,
   "id": "8e6e2d97",
   "metadata": {},
   "outputs": [],
   "source": [
    "from Bio.Phylo.TreeConstruction import DistanceTreeConstructor"
   ]
  },
  {
   "cell_type": "code",
   "execution_count": 74,
   "id": "7570feb1",
   "metadata": {},
   "outputs": [],
   "source": [
    "constructor=DistanceTreeConstructor(calculator)"
   ]
  },
  {
   "cell_type": "code",
   "execution_count": 75,
   "id": "96f0634a",
   "metadata": {},
   "outputs": [],
   "source": [
    "#Build the tree"
   ]
  },
  {
   "cell_type": "code",
   "execution_count": 76,
   "id": "9bbd55ec",
   "metadata": {},
   "outputs": [],
   "source": [
    "Animals_tree=constructor.build_tree(alignment)"
   ]
  },
  {
   "cell_type": "code",
   "execution_count": 77,
   "id": "2fc72fa0",
   "metadata": {},
   "outputs": [
    {
     "data": {
      "text/plain": [
       "1"
      ]
     },
     "execution_count": 77,
     "metadata": {},
     "output_type": "execute_result"
    }
   ],
   "source": [
    "Phylo.write(Animals_tree,\"Animals_tree.xml\",\"phyloxml\")"
   ]
  },
  {
   "cell_type": "code",
   "execution_count": 78,
   "id": "05636874",
   "metadata": {},
   "outputs": [
    {
     "name": "stdout",
     "output_type": "stream",
     "text": [
      "Tree(rooted=True)\n",
      "    Clade(branch_length=0, name='Inner2')\n",
      "        Clade(branch_length=0.48054919908466837, name='NM_001318348.1')\n",
      "        Clade(branch_length=0.10793287566742932, name='Inner1')\n",
      "            Clade(branch_length=0.20709382151029743, name='FJ358423.1')\n",
      "            Clade(branch_length=0.2269260106788712, name='AB208182.1')\n",
      "        Clade(branch_length=0.23874904652936685, name='JQ823644.1')\n"
     ]
    }
   ],
   "source": [
    "Animals_tree.rooted=True\n",
    "print(Animals_tree)"
   ]
  },
  {
   "cell_type": "code",
   "execution_count": 79,
   "id": "9d94334b",
   "metadata": {},
   "outputs": [],
   "source": [
    "#import matplotlib and create basic tree"
   ]
  },
  {
   "cell_type": "code",
   "execution_count": 80,
   "id": "8e514834",
   "metadata": {},
   "outputs": [],
   "source": [
    "import matplotlib"
   ]
  },
  {
   "cell_type": "code",
   "execution_count": 81,
   "id": "bd3e6be0",
   "metadata": {},
   "outputs": [],
   "source": [
    "import matplotlib.pyplot as plt"
   ]
  },
  {
   "cell_type": "code",
   "execution_count": 82,
   "id": "68530bb5",
   "metadata": {},
   "outputs": [
    {
     "data": {
      "image/png": "[encoded data removed]",
      "text/plain": [
       "<Figure size 432x288 with 1 Axes>"
      ]
     },
     "metadata": {
      "needs_background": "light"
     },
     "output_type": "display_data"
    }
   ],
   "source": [
    "figure=Phylo.draw(Animals_tree)"
   ]
  },
  {
   "cell_type": "code",
   "execution_count": null,
   "id": "834e87ce",
   "metadata": {},
   "outputs": [],
   "source": []
  }
 ],
 "metadata": {
  "kernelspec": {
   "display_name": "Python 3 (ipykernel)",
   "language": "python",
   "name": "python3"
  },
  "language_info": {
   "codemirror_mode": {
    "name": "ipython",
    "version": 3
   },
   "file_extension": ".py",
   "mimetype": "text/x-python",
   "name": "python",
   "nbconvert_exporter": "python",
   "pygments_lexer": "ipython3",
   "version": "3.9.7"
  }
 },
 "nbformat": 4,
 "nbformat_minor": 5
}
