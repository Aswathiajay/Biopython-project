{
 "cells": [
  {
   "cell_type": "markdown",
   "id": "70e73ac5",
   "metadata": {},
   "source": [
    "# Pairwise sequence alignment in biopython"
   ]
  },
  {
   "cell_type": "code",
   "execution_count": 12,
   "id": "5d3e8e87",
   "metadata": {},
   "outputs": [],
   "source": [
    "from Bio import pairwise2"
   ]
  },
  {
   "cell_type": "markdown",
   "id": "7a6d2b4d",
   "metadata": {},
   "source": [
    "# examples of global alignment"
   ]
  },
  {
   "cell_type": "code",
   "execution_count": 25,
   "id": "d6a6e4da",
   "metadata": {},
   "outputs": [],
   "source": [
    "#globalxx- matchscore 1,mismatches 0 and gap score 0"
   ]
  },
  {
   "cell_type": "code",
   "execution_count": 26,
   "id": "6ce71ae6",
   "metadata": {},
   "outputs": [
    {
     "name": "stdout",
     "output_type": "stream",
     "text": [
      "ACTTCG--\n",
      "|    |  \n",
      "A----GGC\n",
      "  Score=2\n",
      "\n",
      "ACTTC-G-\n",
      "|     | \n",
      "A----GGC\n",
      "  Score=2\n",
      "\n",
      "ACTTCG-\n",
      "|   .| \n",
      "A---GGC\n",
      "  Score=2\n",
      "\n",
      "ACTTCG-\n",
      "|  . | \n",
      "A--G-GC\n",
      "  Score=2\n",
      "\n",
      "ACTTCG-\n",
      "| .  | \n",
      "A-G--GC\n",
      "  Score=2\n",
      "\n",
      "ACTTCG-\n",
      "|.   | \n",
      "AG---GC\n",
      "  Score=2\n",
      "\n",
      "ACTT--CG\n",
      "|     | \n",
      "A---GGC-\n",
      "  Score=2\n",
      "\n",
      "ACTT-CG\n",
      "|  . | \n",
      "A--GGC-\n",
      "  Score=2\n",
      "\n",
      "ACTT-CG\n",
      "| .  | \n",
      "A-G-GC-\n",
      "  Score=2\n",
      "\n",
      "ACTT-CG\n",
      "|.   | \n",
      "AG--GC-\n",
      "  Score=2\n",
      "\n",
      "ACT-TCG\n",
      "|   .| \n",
      "A--GGC-\n",
      "  Score=2\n",
      "\n",
      "ACTTCG\n",
      "| ..| \n",
      "A-GGC-\n",
      "  Score=2\n",
      "\n",
      "ACTTCG\n",
      "|. .| \n",
      "AG-GC-\n",
      "  Score=2\n",
      "\n",
      "AC-TTCG\n",
      "|  . | \n",
      "A-GG-C-\n",
      "  Score=2\n",
      "\n",
      "ACTTCG\n",
      "|.. | \n",
      "AGG-C-\n",
      "  Score=2\n",
      "\n",
      "A-CTTCG\n",
      "| .  | \n",
      "AGG--C-\n",
      "  Score=2\n",
      "\n",
      "A--CTTCG\n",
      "|  |    \n",
      "AGGC----\n",
      "  Score=2\n",
      "\n"
     ]
    }
   ],
   "source": [
    "# Finding similarities\n",
    "alignments=pairwise2.align.globalxx(\"ACTTCG\",\"AGGC\")\n",
    "# Showing results\n",
    "for alignment in alignments:\n",
    "    print(pairwise2.format_alignment(*alignment))"
   ]
  },
  {
   "cell_type": "code",
   "execution_count": null,
   "id": "3c12b0de",
   "metadata": {},
   "outputs": [],
   "source": []
  },
  {
   "cell_type": "code",
   "execution_count": 27,
   "id": "7d9821a4",
   "metadata": {},
   "outputs": [],
   "source": [
    "#globalmx-matchscore 3, mismatches -1 ,gap score 0"
   ]
  },
  {
   "cell_type": "code",
   "execution_count": 28,
   "id": "48ee3a49",
   "metadata": {},
   "outputs": [
    {
     "name": "stdout",
     "output_type": "stream",
     "text": [
      "ACTTCG--\n",
      "|    |  \n",
      "A----GGC\n",
      "  Score=6\n",
      "\n",
      "ACTTC-G-\n",
      "|     | \n",
      "A----GGC\n",
      "  Score=6\n",
      "\n",
      "ACTT--CG\n",
      "|     | \n",
      "A---GGC-\n",
      "  Score=6\n",
      "\n",
      "A--CTTCG\n",
      "|  |    \n",
      "AGGC----\n",
      "  Score=6\n",
      "\n"
     ]
    }
   ],
   "source": [
    "# Finding similarities\n",
    "alignments=pairwise2.align.globalmx(\"ACTTCG\",\"AGGC\",match=3,mismatch=-1)\n",
    "# Showing results\n",
    "for alignment in alignments:\n",
    "    print(pairwise2.format_alignment(*alignment))"
   ]
  },
  {
   "cell_type": "code",
   "execution_count": null,
   "id": "4a24dacc",
   "metadata": {},
   "outputs": [],
   "source": []
  },
  {
   "cell_type": "code",
   "execution_count": 29,
   "id": "59fcf1b9",
   "metadata": {},
   "outputs": [],
   "source": [
    "#globalxs-matchscore 2, mismatches -1 ,opening gap -1,extended gap -1"
   ]
  },
  {
   "cell_type": "code",
   "execution_count": 30,
   "id": "0883f59b",
   "metadata": {},
   "outputs": [
    {
     "name": "stdout",
     "output_type": "stream",
     "text": [
      "ACTTCG\n",
      "| ..| \n",
      "A-GGC-\n",
      "  Score=0\n",
      "\n",
      "ACTTCG\n",
      "|. .| \n",
      "AG-GC-\n",
      "  Score=0\n",
      "\n",
      "ACTTCG\n",
      "|.. | \n",
      "AGG-C-\n",
      "  Score=0\n",
      "\n"
     ]
    }
   ],
   "source": [
    "# Finding similarities\n",
    "alignments=pairwise2.align.globalxs(\"ACTTCG\",\"AGGC\",open=-1,extend=-1)\n",
    "# Showing results\n",
    "for alignment in alignments:\n",
    "    print(pairwise2.format_alignment(*alignment))"
   ]
  },
  {
   "cell_type": "code",
   "execution_count": null,
   "id": "51e8e6cd",
   "metadata": {},
   "outputs": [],
   "source": []
  },
  {
   "cell_type": "code",
   "execution_count": 31,
   "id": "86b187dc",
   "metadata": {},
   "outputs": [],
   "source": [
    "#globalxs-matchand mismatch scores read from blosum62matrix, gap score 0"
   ]
  },
  {
   "cell_type": "code",
   "execution_count": 32,
   "id": "3d85a8c8",
   "metadata": {},
   "outputs": [],
   "source": [
    "from Bio.Align import substitution_matrices\n",
    "matrix=substitution_matrices.load(\"BLOSUM62\")"
   ]
  },
  {
   "cell_type": "code",
   "execution_count": 33,
   "id": "c5e8b578",
   "metadata": {},
   "outputs": [
    {
     "name": "stdout",
     "output_type": "stream",
     "text": [
      "ACTT--CG\n",
      "|     | \n",
      "A---GGC-\n",
      "  Score=13\n",
      "\n",
      "A--CTTCG\n",
      "|  |    \n",
      "AGGC----\n",
      "  Score=13\n",
      "\n"
     ]
    }
   ],
   "source": [
    "alignments=pairwise2.align.globaldx(\"ACTTCG\",\"AGGC\" , match_dict=matrix)\n",
    "# Showing results\n",
    "for alignment in alignments:\n",
    "    print(pairwise2.format_alignment(*alignment))"
   ]
  },
  {
   "cell_type": "code",
   "execution_count": null,
   "id": "1b017b97",
   "metadata": {},
   "outputs": [],
   "source": []
  },
  {
   "cell_type": "code",
   "execution_count": null,
   "id": "3ed428a9",
   "metadata": {},
   "outputs": [],
   "source": []
  }
 ],
 "metadata": {
  "kernelspec": {
   "display_name": "Python 3 (ipykernel)",
   "language": "python",
   "name": "python3"
  },
  "language_info": {
   "codemirror_mode": {
    "name": "ipython",
    "version": 3
   },
   "file_extension": ".py",
   "mimetype": "text/x-python",
   "name": "python",
   "nbconvert_exporter": "python",
   "pygments_lexer": "ipython3",
   "version": "3.9.7"
  }
 },
 "nbformat": 4,
 "nbformat_minor": 5
}
